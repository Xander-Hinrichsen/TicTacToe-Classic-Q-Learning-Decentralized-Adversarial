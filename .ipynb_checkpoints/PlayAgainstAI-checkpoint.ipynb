{
 "cells": [
  {
   "cell_type": "code",
   "execution_count": 1,
   "metadata": {},
   "outputs": [],
   "source": [
    "import numpy as np\n",
    "from TicTacToeEnv import TicTacToeEnvironment"
   ]
  },
  {
   "cell_type": "code",
   "execution_count": 2,
   "metadata": {},
   "outputs": [],
   "source": [
    "X_policy = np.load('TrainedPolicies/X_policy.npy')\n",
    "O_policy = np.load('TrainedPolicies/O_policy.npy')\n",
    "X_policy_rewarded_ties = ('TrainedPolicies/X_policy_tiesRewarded.npy')\n",
    "O_policy_rewarded_ties = ('TrainedPolicies/O_policy_tiesRewarded.npy')"
   ]
  },
  {
   "cell_type": "code",
   "execution_count": 3,
   "metadata": {},
   "outputs": [],
   "source": [
    "test_env = TicTacToeEnvironment()"
   ]
  },
  {
   "cell_type": "markdown",
   "metadata": {},
   "source": [
    "## Play As X Against O (trained normally)"
   ]
  },
  {
   "cell_type": "code",
   "execution_count": 4,
   "metadata": {},
   "outputs": [
    {
     "name": "stdout",
     "output_type": "stream",
     "text": [
      "  |   |  \n",
      "---------\n",
      "  |   |  \n",
      "---------\n",
      "  |   |  \n",
      "choose your move (0-8)\n",
      "0\n",
      "X |   |  \n",
      "---------\n",
      "  |   |  \n",
      "---------\n",
      "  |   |  \n",
      "press enter for ai move\n",
      "\n",
      "X |   |  \n",
      "---------\n",
      "  | O |  \n",
      "---------\n",
      "  |   |  \n",
      "choose your move (0-8)\n",
      "2\n",
      "X |   | X\n",
      "---------\n",
      "  | O |  \n",
      "---------\n",
      "  |   |  \n",
      "press enter for ai move\n",
      "\n",
      "X | O | X\n",
      "---------\n",
      "  | O |  \n",
      "---------\n",
      "  |   |  \n",
      "choose your move (0-8)\n",
      "8\n",
      "X | O | X\n",
      "---------\n",
      "  | O |  \n",
      "---------\n",
      "  |   | X\n",
      "press enter for ai move\n",
      "\n",
      "X | O | X\n",
      "---------\n",
      "  | O |  \n",
      "---------\n",
      "  | O | X\n"
     ]
    }
   ],
   "source": [
    "test_env.reset()\n",
    "test_env.play_against_policy(O_policy, mode='X', deterministic=True)"
   ]
  },
  {
   "cell_type": "markdown",
   "metadata": {},
   "source": [
    "## Play As O Against X (trained normally)"
   ]
  },
  {
   "cell_type": "code",
   "execution_count": 5,
   "metadata": {},
   "outputs": [
    {
     "name": "stdout",
     "output_type": "stream",
     "text": [
      "  |   |  \n",
      "---------\n",
      "  |   |  \n",
      "---------\n",
      "  |   |  \n",
      "press enter for ai move\n",
      "\n",
      "  |   |  \n",
      "---------\n",
      "  | X |  \n",
      "---------\n",
      "  |   |  \n",
      "choose your move (0-8)\n",
      "0\n",
      "O |   |  \n",
      "---------\n",
      "  | X |  \n",
      "---------\n",
      "  |   |  \n",
      "press enter for ai move\n",
      "\n",
      "O | X |  \n",
      "---------\n",
      "  | X |  \n",
      "---------\n",
      "  |   |  \n",
      "choose your move (0-8)\n",
      "7\n",
      "O | X |  \n",
      "---------\n",
      "  | X |  \n",
      "---------\n",
      "  | O |  \n",
      "press enter for ai move\n",
      "\n",
      "O | X |  \n",
      "---------\n",
      "X | X |  \n",
      "---------\n",
      "  | O |  \n",
      "choose your move (0-8)\n",
      "2\n",
      "O | X | O\n",
      "---------\n",
      "X | X |  \n",
      "---------\n",
      "  | O |  \n",
      "press enter for ai move\n",
      "\n",
      "O | X | O\n",
      "---------\n",
      "X | X | X\n",
      "---------\n",
      "  | O |  \n"
     ]
    }
   ],
   "source": [
    "test_env.reset()\n",
    "test_env.play_against_policy(X_policy, mode='O', deterministic=True)"
   ]
  },
  {
   "cell_type": "markdown",
   "metadata": {},
   "source": [
    "## Play As X Against O (trained with ties rewarded for O)"
   ]
  },
  {
   "cell_type": "code",
   "execution_count": 7,
   "metadata": {},
   "outputs": [
    {
     "name": "stdout",
     "output_type": "stream",
     "text": [
      "  |   |  \n",
      "---------\n",
      "  |   |  \n",
      "---------\n",
      "  |   |  \n",
      "choose your move (0-8)\n",
      "2\n",
      "  |   | X\n",
      "---------\n",
      "  |   |  \n",
      "---------\n",
      "  |   |  \n",
      "press enter for ai move\n",
      "\n",
      "O |   | X\n",
      "---------\n",
      "  |   |  \n",
      "---------\n",
      "  |   |  \n",
      "choose your move (0-8)\n",
      "1\n",
      "O | X | X\n",
      "---------\n",
      "  |   |  \n",
      "---------\n",
      "  |   |  \n",
      "press enter for ai move\n",
      "\n",
      "O | X | X\n",
      "---------\n",
      "  |   |  \n",
      "---------\n",
      "  |   |  \n",
      "choose your move (0-8)\n",
      "\n"
     ]
    },
    {
     "ename": "ValueError",
     "evalue": "invalid literal for int() with base 10: ''",
     "output_type": "error",
     "traceback": [
      "\u001b[1;31m---------------------------------------------------------------------------\u001b[0m",
      "\u001b[1;31mValueError\u001b[0m                                Traceback (most recent call last)",
      "\u001b[1;32m~\\AppData\\Local\\Temp\\ipykernel_5360\\1158157582.py\u001b[0m in \u001b[0;36m<cell line: 2>\u001b[1;34m()\u001b[0m\n\u001b[0;32m      1\u001b[0m \u001b[0mtest_env\u001b[0m\u001b[1;33m.\u001b[0m\u001b[0mreset\u001b[0m\u001b[1;33m(\u001b[0m\u001b[1;33m)\u001b[0m\u001b[1;33m\u001b[0m\u001b[1;33m\u001b[0m\u001b[0m\n\u001b[1;32m----> 2\u001b[1;33m \u001b[0mtest_env\u001b[0m\u001b[1;33m.\u001b[0m\u001b[0mplay_against_policy\u001b[0m\u001b[1;33m(\u001b[0m\u001b[0mO_policy_rewarded_ties\u001b[0m\u001b[1;33m,\u001b[0m \u001b[0mmode\u001b[0m\u001b[1;33m=\u001b[0m\u001b[1;34m'X'\u001b[0m\u001b[1;33m,\u001b[0m \u001b[0mdeterministic\u001b[0m\u001b[1;33m=\u001b[0m\u001b[1;32mTrue\u001b[0m\u001b[1;33m)\u001b[0m\u001b[1;33m\u001b[0m\u001b[1;33m\u001b[0m\u001b[0m\n\u001b[0m",
      "\u001b[1;32m~\\Desktop\\HuggingFace RL\\ttt\\TicTacToeEnv.py\u001b[0m in \u001b[0;36mplay_against_policy\u001b[1;34m(self, policy, mode, deterministic)\u001b[0m\n\u001b[0;32m     80\u001b[0m                 \u001b[0mmove\u001b[0m \u001b[1;33m=\u001b[0m \u001b[1;33m-\u001b[0m\u001b[1;36m1\u001b[0m\u001b[1;33m\u001b[0m\u001b[1;33m\u001b[0m\u001b[0m\n\u001b[0;32m     81\u001b[0m                 \u001b[1;32mwhile\u001b[0m \u001b[1;33m(\u001b[0m\u001b[0mmove\u001b[0m \u001b[1;33m<\u001b[0m \u001b[1;36m0\u001b[0m \u001b[1;32mor\u001b[0m \u001b[0mmove\u001b[0m \u001b[1;33m>=\u001b[0m \u001b[1;36m9\u001b[0m\u001b[1;33m)\u001b[0m\u001b[1;33m:\u001b[0m\u001b[1;33m\u001b[0m\u001b[1;33m\u001b[0m\u001b[0m\n\u001b[1;32m---> 82\u001b[1;33m                     \u001b[0mmove\u001b[0m \u001b[1;33m=\u001b[0m \u001b[0mint\u001b[0m\u001b[1;33m(\u001b[0m\u001b[0minput\u001b[0m\u001b[1;33m(\u001b[0m\u001b[1;33m)\u001b[0m\u001b[1;33m)\u001b[0m\u001b[1;33m\u001b[0m\u001b[1;33m\u001b[0m\u001b[0m\n\u001b[0m\u001b[0;32m     83\u001b[0m                 \u001b[0mself\u001b[0m\u001b[1;33m.\u001b[0m\u001b[0mtable\u001b[0m\u001b[1;33m[\u001b[0m\u001b[0mmove\u001b[0m \u001b[1;33m//\u001b[0m \u001b[1;36m3\u001b[0m\u001b[1;33m,\u001b[0m \u001b[0mmove\u001b[0m \u001b[1;33m%\u001b[0m \u001b[1;36m3\u001b[0m\u001b[1;33m]\u001b[0m \u001b[1;33m=\u001b[0m \u001b[0mplayer_piece\u001b[0m\u001b[1;33m\u001b[0m\u001b[1;33m\u001b[0m\u001b[0m\n\u001b[0;32m     84\u001b[0m             \u001b[1;32melse\u001b[0m\u001b[1;33m:\u001b[0m\u001b[1;33m\u001b[0m\u001b[1;33m\u001b[0m\u001b[0m\n",
      "\u001b[1;31mValueError\u001b[0m: invalid literal for int() with base 10: ''"
     ]
    }
   ],
   "source": [
    "test_env.reset()\n",
    "test_env.play_against_policy(O_policy_rewarded_ties, mode='X', deterministic=True)"
   ]
  },
  {
   "cell_type": "markdown",
   "metadata": {},
   "source": [
    "## Play As O Against X (trained with ties rewarded for O)"
   ]
  },
  {
   "cell_type": "code",
   "execution_count": null,
   "metadata": {},
   "outputs": [],
   "source": [
    "test_env.reset()\n",
    "test_env.play_against_policy(X_policy_rewarded_ties, mode='O', deterministic=True)"
   ]
  }
 ],
 "metadata": {
  "kernelspec": {
   "display_name": "Python 3 (ipykernel)",
   "language": "python",
   "name": "python3"
  },
  "language_info": {
   "codemirror_mode": {
    "name": "ipython",
    "version": 3
   },
   "file_extension": ".py",
   "mimetype": "text/x-python",
   "name": "python",
   "nbconvert_exporter": "python",
   "pygments_lexer": "ipython3",
   "version": "3.10.9"
  }
 },
 "nbformat": 4,
 "nbformat_minor": 2
}

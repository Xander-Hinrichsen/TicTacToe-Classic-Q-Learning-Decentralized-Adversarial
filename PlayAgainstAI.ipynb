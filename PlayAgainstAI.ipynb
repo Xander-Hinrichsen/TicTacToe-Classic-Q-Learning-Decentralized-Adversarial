{
 "cells": [
  {
   "cell_type": "code",
   "execution_count": 10,
   "metadata": {},
   "outputs": [],
   "source": [
    "import numpy as np\n",
    "from TicTacToeEnv import TicTacToeEnvironment"
   ]
  },
  {
   "cell_type": "code",
   "execution_count": 11,
   "metadata": {},
   "outputs": [],
   "source": [
    "X_policy = np.load('TrainedPolicies/X_policy.npy')\n",
    "O_policy = np.load('TrainedPolicies/O_policy.npy')"
   ]
  },
  {
   "cell_type": "code",
   "execution_count": 12,
   "metadata": {},
   "outputs": [],
   "source": [
    "test_env = TicTacToeEnvironment()"
   ]
  },
  {
   "cell_type": "markdown",
   "metadata": {},
   "source": [
    "## Play As X Against O (trained normally)"
   ]
  },
  {
   "cell_type": "code",
   "execution_count": 14,
   "metadata": {},
   "outputs": [
    {
     "name": "stdout",
     "output_type": "stream",
     "text": [
      "  |   |  \n",
      "---------\n",
      "  |   |  \n",
      "---------\n",
      "  |   |  \n",
      "choose your move (0-8)\n",
      "0\n",
      "X |   |  \n",
      "---------\n",
      "  |   |  \n",
      "---------\n",
      "  |   |  \n",
      "press enter for ai move\n",
      "\n",
      "X |   |  \n",
      "---------\n",
      "  | O |  \n",
      "---------\n",
      "  |   |  \n",
      "choose your move (0-8)\n",
      "2\n",
      "X |   | X\n",
      "---------\n",
      "  | O |  \n",
      "---------\n",
      "  |   |  \n",
      "press enter for ai move\n",
      "\n",
      "X | O | X\n",
      "---------\n",
      "  | O |  \n",
      "---------\n",
      "  |   |  \n",
      "choose your move (0-8)\n",
      "3\n",
      "X | O | X\n",
      "---------\n",
      "X | O |  \n",
      "---------\n",
      "  |   |  \n",
      "press enter for ai move\n",
      "\n",
      "X | O | X\n",
      "---------\n",
      "X | O |  \n",
      "---------\n",
      "  | O |  \n"
     ]
    }
   ],
   "source": [
    "test_env.reset()\n",
    "test_env.play_against_policy(O_policy, mode='X', deterministic=True)"
   ]
  },
  {
   "cell_type": "markdown",
   "metadata": {},
   "source": [
    "## Play As O Against X (trained normally)"
   ]
  },
  {
   "cell_type": "code",
   "execution_count": 16,
   "metadata": {},
   "outputs": [
    {
     "name": "stdout",
     "output_type": "stream",
     "text": [
      "  |   |  \n",
      "---------\n",
      "  |   |  \n",
      "---------\n",
      "  |   |  \n",
      "press enter for ai move\n",
      "\n",
      "  |   |  \n",
      "---------\n",
      "  | X |  \n",
      "---------\n",
      "  |   |  \n",
      "choose your move (0-8)\n",
      "1\n",
      "  | O |  \n",
      "---------\n",
      "  | X |  \n",
      "---------\n",
      "  |   |  \n",
      "press enter for ai move\n",
      "\n",
      "X | O |  \n",
      "---------\n",
      "  | X |  \n",
      "---------\n",
      "  |   |  \n",
      "choose your move (0-8)\n",
      "8\n",
      "X | O |  \n",
      "---------\n",
      "  | X |  \n",
      "---------\n",
      "  |   | O\n",
      "press enter for ai move\n",
      "\n",
      "X | O |  \n",
      "---------\n",
      "X | X |  \n",
      "---------\n",
      "  |   | O\n",
      "choose your move (0-8)\n",
      "2\n",
      "X | O | O\n",
      "---------\n",
      "X | X |  \n",
      "---------\n",
      "  |   | O\n",
      "press enter for ai move\n",
      "\n",
      "X | O | O\n",
      "---------\n",
      "X | X |  \n",
      "---------\n",
      "X |   | O\n"
     ]
    }
   ],
   "source": [
    "test_env.reset()\n",
    "test_env.play_against_policy(X_policy, mode='O', deterministic=True)"
   ]
  },
  {
   "cell_type": "code",
   "execution_count": null,
   "metadata": {},
   "outputs": [],
   "source": []
  }
 ],
 "metadata": {
  "kernelspec": {
   "display_name": "Python 3 (ipykernel)",
   "language": "python",
   "name": "python3"
  },
  "language_info": {
   "codemirror_mode": {
    "name": "ipython",
    "version": 3
   },
   "file_extension": ".py",
   "mimetype": "text/x-python",
   "name": "python",
   "nbconvert_exporter": "python",
   "pygments_lexer": "ipython3",
   "version": "3.10.9"
  }
 },
 "nbformat": 4,
 "nbformat_minor": 2
}
